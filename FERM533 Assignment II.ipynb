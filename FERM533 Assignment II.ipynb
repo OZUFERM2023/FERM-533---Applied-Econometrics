{
 "cells": [
  {
   "cell_type": "markdown",
   "id": "0e09df61-244f-49be-9ea7-74403dbf13c0",
   "metadata": {},
   "source": [
    "## FERM 533 Assignment II"
   ]
  },
  {
   "cell_type": "code",
   "execution_count": 17,
   "id": "55605d03-43c6-481f-951b-630d7ed54686",
   "metadata": {},
   "outputs": [],
   "source": [
    "import pandas as pd\n",
    "from sklearn.linear_model import LogisticRegression\n",
    "import numpy as np\n",
    "import statsmodels.api as sm\n",
    "\n",
    "import warnings\n",
    "warnings.filterwarnings(\"ignore\")"
   ]
  },
  {
   "cell_type": "markdown",
   "id": "3ed3e55f-6ec0-43e2-840a-38092ae042b6",
   "metadata": {},
   "source": [
    "#### Let's start with obtaining our data in csv format"
   ]
  },
  {
   "cell_type": "code",
   "execution_count": 11,
   "id": "419f7182-8c46-4f4a-a9ea-171c93114e64",
   "metadata": {},
   "outputs": [],
   "source": [
    "firm_data = pd.read_csv(\"Firm_default.csv\")\n",
    "firm_data.columns = ['Company', 'Default', 'CF_coverage', 'RoA', 'liquidity', 'asset_turnover']"
   ]
  },
  {
   "cell_type": "markdown",
   "id": "c12aa591-a773-49c8-a520-d2f068cade7f",
   "metadata": {},
   "source": [
    "#### I will use the 'CF_Coverage' data in this regression"
   ]
  },
  {
   "cell_type": "code",
   "execution_count": 12,
   "id": "c0217cf0-c81c-4dba-8f25-4bce104b7a5c",
   "metadata": {},
   "outputs": [
    {
     "name": "stdout",
     "output_type": "stream",
     "text": [
      "logit(P(Default)) = 0.4845 + (-0.0755) * CF_coverage\n"
     ]
    }
   ],
   "source": [
    "# A\n",
    "X_CF_coverage = firm_data[['CF_coverage']]\n",
    "y = firm_data['Default']\n",
    "log_reg_CF_coverage = LogisticRegression()\n",
    "log_reg_CF_coverage.fit(X_CF_coverage, y)\n",
    "intercept_CF_coverage = log_reg_CF_coverage.intercept_[0]\n",
    "coef_CF_coverage = log_reg_CF_coverage.coef_[0][0]\n",
    "regression_equation_CF_coverage = f'logit(P(Default)) = {intercept_CF_coverage:.4f} + ({coef_CF_coverage:.4f}) * CF_coverage'\n",
    "print(regression_equation_CF_coverage)"
   ]
  },
  {
   "cell_type": "markdown",
   "id": "a0b89796-f132-40fb-977c-4079c5040506",
   "metadata": {},
   "source": [
    "#### So, what i obtain as equation is; logit(P(Default)) = 0.4845 + (-0.0755) * CF_coverage"
   ]
  },
  {
   "cell_type": "code",
   "execution_count": 13,
   "id": "b80e4eac-efc8-4027-bdd9-3c2b82291bdb",
   "metadata": {},
   "outputs": [
    {
     "name": "stdout",
     "output_type": "stream",
     "text": [
      "Optimization terminated successfully.\n",
      "         Current function value: 0.475375\n",
      "         Iterations 7\n",
      "                           Logit Regression Results                           \n",
      "==============================================================================\n",
      "Dep. Variable:                Default   No. Observations:                   46\n",
      "Model:                          Logit   Df Residuals:                       44\n",
      "Method:                           MLE   Df Model:                            1\n",
      "Date:                Mon, 20 Nov 2023   Pseudo R-squ.:                  0.3104\n",
      "Time:                        13:29:59   Log-Likelihood:                -21.867\n",
      "converged:                       True   LL-Null:                       -31.711\n",
      "Covariance Type:            nonrobust   LLR p-value:                 9.123e-06\n",
      "===============================================================================\n",
      "                  coef    std err          z      P>|z|      [0.025      0.975]\n",
      "-------------------------------------------------------------------------------\n",
      "const           0.4849      0.421      1.151      0.250      -0.341       1.311\n",
      "CF_coverage    -0.0755      0.024     -3.128      0.002      -0.123      -0.028\n",
      "===============================================================================\n"
     ]
    }
   ],
   "source": [
    "# B\n",
    "X_CF_coverage_sm = sm.add_constant(X_CF_coverage)  \n",
    "model_CF_coverage_sm = sm.Logit(y, X_CF_coverage_sm)\n",
    "result_CF_coverage_sm = model_CF_coverage_sm.fit()\n",
    "print(result_CF_coverage_sm.summary())"
   ]
  },
  {
   "cell_type": "markdown",
   "id": "d2449fa4-32b3-4a4b-832f-9e90cce43a54",
   "metadata": {},
   "source": [
    "#### For the coef of CF_coverage, we obtained the negative value -0.0755, which shows an inverse relation between CF_coverage and the probability of a firm defaulting on a loan.\n",
    "#### The p-value for our CF_coverage is 0.002 < 0.05 significance level, which means that the coefficient is statistically significant.\n",
    "#### Pseudo R-squared value of 0.3104 prompts that model explains about 31.04% of the variability in the default variable."
   ]
  },
  {
   "cell_type": "code",
   "execution_count": 16,
   "id": "7a9b3149-f307-481a-873b-de2dec4b6433",
   "metadata": {},
   "outputs": [
    {
     "name": "stdout",
     "output_type": "stream",
     "text": [
      "Optimization terminated successfully.\n",
      "         Current function value: 0.303869\n",
      "         Iterations 8\n",
      "                           Logit Regression Results                           \n",
      "==============================================================================\n",
      "Dep. Variable:                Default   No. Observations:                   46\n",
      "Model:                          Logit   Df Residuals:                       41\n",
      "Method:                           MLE   Df Model:                            4\n",
      "Date:                Mon, 20 Nov 2023   Pseudo R-squ.:                  0.5592\n",
      "Time:                        14:01:34   Log-Likelihood:                -13.978\n",
      "converged:                       True   LL-Null:                       -31.711\n",
      "Covariance Type:            nonrobust   LLR p-value:                 3.727e-07\n",
      "==================================================================================\n",
      "                     coef    std err          z      P>|z|      [0.025      0.975]\n",
      "----------------------------------------------------------------------------------\n",
      "const              7.6071      3.042      2.501      0.012       1.645      13.569\n",
      "CF_coverage       -0.0758      0.059     -1.279      0.201      -0.192       0.040\n",
      "RoA                0.0467      0.134      0.350      0.726      -0.215       0.308\n",
      "liquidity         -0.0345      0.012     -2.781      0.005      -0.059      -0.010\n",
      "asset_turnover    -0.0032      0.004     -0.758      0.448      -0.012       0.005\n",
      "==================================================================================\n",
      "Probability of Default for specified firm: 0.002579134710046539\n"
     ]
    }
   ],
   "source": [
    "# C\n",
    "X_comprehensive = firm_data[['CF_coverage', 'RoA', 'liquidity', 'asset_turnover']]\n",
    "X_comprehensive_sm = sm.add_constant(X_comprehensive)\n",
    "model_comprehensive_sm = sm.Logit(y, X_comprehensive_sm)\n",
    "result_comprehensive_sm = model_comprehensive_sm.fit()\n",
    "print(result_comprehensive_sm.summary())\n",
    "\n",
    "firm_characteristics_new = np.array([40, 3, 300, 100]).reshape(1, -1)\n",
    "firm_characteristics_new_with_const = np.insert(firm_characteristics_new, 0, 1, axis=1)\n",
    "log_odds_new = np.dot(result_comprehensive_sm.params, firm_characteristics_new_with_const.T)\n",
    "probability_of_default_new = 1 / (1 + np.exp(-log_odds_new)).item()\n",
    "print(\"Probability of Default for specified firm:\", probability_of_default_new)"
   ]
  },
  {
   "cell_type": "markdown",
   "id": "46accca9-89e5-4f5f-8485-ec2dd2abdcdd",
   "metadata": {},
   "source": [
    "#### We used the values: CF_coverage is 40 , RoA is 3 , liquidity is 300 , asset_turnover is 100.\n",
    "#### The probability of default is about 0.257%, meaning that company's very unlikely to default, which indicates a low credit risk or a financial stability for these particular parameters. "
   ]
  },
  {
   "cell_type": "code",
   "execution_count": null,
   "id": "dc6524dc-8d4a-4b02-9181-15965b15578d",
   "metadata": {},
   "outputs": [],
   "source": []
  }
 ],
 "metadata": {
  "kernelspec": {
   "display_name": "Python 3 (ipykernel)",
   "language": "python",
   "name": "python3"
  },
  "language_info": {
   "codemirror_mode": {
    "name": "ipython",
    "version": 3
   },
   "file_extension": ".py",
   "mimetype": "text/x-python",
   "name": "python",
   "nbconvert_exporter": "python",
   "pygments_lexer": "ipython3",
   "version": "3.9.12"
  }
 },
 "nbformat": 4,
 "nbformat_minor": 5
}
