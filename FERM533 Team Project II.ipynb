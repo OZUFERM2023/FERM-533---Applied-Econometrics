{
 "cells": [
  {
   "cell_type": "code",
   "execution_count": 1,
   "id": "eb09e17b-6e6e-4496-8426-b07f880e5d53",
   "metadata": {},
   "outputs": [],
   "source": [
    "# Let's start with importing the necessary libraries as we go\n",
    "import yfinance as yf\n",
    "import matplotlib.pyplot as plt\n",
    "from datetime import date\n",
    "import statsmodels.api as sm\n",
    "\n",
    "from statsmodels.graphics.tsaplots import plot_acf, plot_pacf\n",
    "from statsmodels.graphics.tsaplots import acf\n",
    "\n",
    "import warnings\n",
    "warnings.filterwarnings(\"ignore\")"
   ]
  },
  {
   "cell_type": "markdown",
   "id": "f89cc861-cb7a-4122-b9f1-50f2db0783d9",
   "metadata": {},
   "source": [
    "### -------------------------------------------------------------------------------------------------------------\n",
    "## (0) Choose an ETF to work with in the Google spreadsheet."
   ]
  },
  {
   "cell_type": "markdown",
   "id": "2ccf01f9-263c-4d85-97fd-491b208a348e",
   "metadata": {},
   "source": [
    "#### We have chosen the second ticker \"(VUG) Vanguard Growth Index Fund\" for this project."
   ]
  },
  {
   "cell_type": "markdown",
   "id": "93302ca4-9363-4a1c-9910-16975bf1805a",
   "metadata": {},
   "source": [
    "### -------------------------------------------------------------------------------------------------------------\n",
    "## (1) Using autocorrelation and partial autocorrelation functions determine a few alternative ARMA(p,q)\n",
    "## representations that can potentially represent the time-series behavior of the ETF return.\n"
   ]
  },
  {
   "cell_type": "code",
   "execution_count": 42,
   "id": "09e80764-3983-459e-8654-065f1bf06398",
   "metadata": {},
   "outputs": [
    {
     "name": "stdout",
     "output_type": "stream",
     "text": [
      "[*********************100%***********************]  1 of 1 completed\n"
     ]
    }
   ],
   "source": [
    "# Load VUG data\n",
    "ticker = 'VUG'\n",
    "data = yf.download(ticker, start='2010-02-01', end='2023-11-01', interval = \"1mo\")\n",
    "returns = data['Adj Close'].pct_change().dropna()"
   ]
  },
  {
   "cell_type": "markdown",
   "id": "d1338c79-181a-4358-990a-e402fafb94cb",
   "metadata": {},
   "source": [
    "### Let's start with a test on an ARMA (1, 1)"
   ]
  },
  {
   "cell_type": "code",
   "execution_count": 44,
   "id": "7f981475-4f7a-4704-a97c-1088d387a95c",
   "metadata": {},
   "outputs": [
    {
     "name": "stdout",
     "output_type": "stream",
     "text": [
      "                               SARIMAX Results                                \n",
      "==============================================================================\n",
      "Dep. Variable:              Adj Close   No. Observations:                  219\n",
      "Model:                 ARIMA(1, 0, 1)   Log Likelihood                 384.553\n",
      "Date:                Sun, 26 Nov 2023   AIC                           -761.106\n",
      "Time:                        17:26:31   BIC                           -747.550\n",
      "Sample:                             0   HQIC                          -755.631\n",
      "                                - 219                                         \n",
      "Covariance Type:                  opg                                         \n",
      "==============================================================================\n",
      "                 coef    std err          z      P>|z|      [0.025      0.975]\n",
      "------------------------------------------------------------------------------\n",
      "const          0.0094      0.000     20.049      0.000       0.009       0.010\n",
      "ar.L1          0.9247      0.034     26.950      0.000       0.857       0.992\n",
      "ma.L1         -0.9997      0.582     -1.717      0.086      -2.141       0.141\n",
      "sigma2         0.0017      0.001      1.710      0.087      -0.000       0.004\n",
      "===================================================================================\n",
      "Ljung-Box (L1) (Q):                   0.88   Jarque-Bera (JB):                12.94\n",
      "Prob(Q):                              0.35   Prob(JB):                         0.00\n",
      "Heteroskedasticity (H):               2.35   Skew:                            -0.11\n",
      "Prob(H) (two-sided):                  0.00   Kurtosis:                         4.17\n",
      "===================================================================================\n",
      "\n",
      "Warnings:\n",
      "[1] Covariance matrix calculated using the outer product of gradients (complex-step).\n"
     ]
    }
   ],
   "source": [
    "# fit ARMA model to generated data\n",
    "model = sm.tsa.ARIMA(returns, order=(1,0,1))\n",
    "results = model.fit()\n",
    "\n",
    "# Print the model summary\n",
    "print(results.summary())"
   ]
  },
  {
   "cell_type": "markdown",
   "id": "818b2b2b-a647-49a6-88cf-a80e647aa5c4",
   "metadata": {},
   "source": [
    "### Also test an AR(1) model, since ma.L1 shown statistical insignificance with 0.086 > 0.05"
   ]
  },
  {
   "cell_type": "code",
   "execution_count": 48,
   "id": "41d4cc44-f0c1-4d36-9b62-2f4026ef2746",
   "metadata": {},
   "outputs": [
    {
     "name": "stdout",
     "output_type": "stream",
     "text": [
      "                               SARIMAX Results                                \n",
      "==============================================================================\n",
      "Dep. Variable:              Adj Close   No. Observations:                  219\n",
      "Model:                 ARIMA(1, 0, 0)   Log Likelihood                 381.425\n",
      "Date:                Sun, 26 Nov 2023   AIC                           -756.849\n",
      "Time:                        17:29:52   BIC                           -746.682\n",
      "Sample:                             0   HQIC                          -752.743\n",
      "                                - 219                                         \n",
      "Covariance Type:                  opg                                         \n",
      "==============================================================================\n",
      "                 coef    std err          z      P>|z|      [0.025      0.975]\n",
      "------------------------------------------------------------------------------\n",
      "const          0.0091      0.003      3.031      0.002       0.003       0.015\n",
      "ar.L1          0.0295      0.071      0.417      0.677      -0.109       0.168\n",
      "sigma2         0.0018      0.000     13.471      0.000       0.002       0.002\n",
      "===================================================================================\n",
      "Ljung-Box (L1) (Q):                   0.00   Jarque-Bera (JB):                16.18\n",
      "Prob(Q):                              0.95   Prob(JB):                         0.00\n",
      "Heteroskedasticity (H):               2.26   Skew:                            -0.02\n",
      "Prob(H) (two-sided):                  0.00   Kurtosis:                         4.33\n",
      "===================================================================================\n",
      "\n",
      "Warnings:\n",
      "[1] Covariance matrix calculated using the outer product of gradients (complex-step).\n"
     ]
    }
   ],
   "source": [
    "# fit ARMA model to generated data\n",
    "model = sm.tsa.ARIMA(returns, order=(1,0,0))\n",
    "results = model.fit()\n",
    "\n",
    "# Print the model summary\n",
    "print(results.summary())"
   ]
  },
  {
   "cell_type": "markdown",
   "id": "db53211a-c0b5-40f9-ad9d-fa00c8e0c6b0",
   "metadata": {},
   "source": [
    "### This proved to be worse than the above model, since ar.L1 has a statistical insignificance with 0.677 > 0.05"
   ]
  },
  {
   "cell_type": "code",
   "execution_count": 47,
   "id": "30d1e8e2-e902-4bf6-85af-aa8cda63489c",
   "metadata": {},
   "outputs": [
    {
     "data": {
      "image/png": "[encoded data removed]",
      "text/plain": [
       "<Figure size 1008x288 with 2 Axes>"
      ]
     },
     "metadata": {
      "needs_background": "light"
     },
     "output_type": "display_data"
    }
   ],
   "source": [
    "# Plot ACF and PACF\n",
    "fig, (ax1, ax2) = plt.subplots(1, 2, figsize=(14, 4))\n",
    "\n",
    "plot_acf(returns, lags=10, alpha= 0.05, auto_ylims=True, zero=False, ax=ax1)\n",
    "ax1.set_title('Autocorrelation Function (ACF)')\n",
    "\n",
    "plot_pacf(returns, lags=10, alpha = 0.05, auto_ylims=True, zero=False, ax=ax2)\n",
    "ax2.set_title('Partial Autocorrelation Function (PACF)')\n",
    "\n",
    "plt.show()"
   ]
  },
  {
   "cell_type": "markdown",
   "id": "1ba28c61-44b4-41c1-a23f-3d66428e67e5",
   "metadata": {},
   "source": [
    "### It seems when we take a look at the returns on ACF and PACF;\n",
    "### We have a \"cut-off\" in lag 2 in ACF, a \"die-out\" in lag 2 in PACF\n",
    "### Therefore, we should consider an ARMA(2, 2) model"
   ]
  },
  {
   "cell_type": "markdown",
   "id": "7ad54ca1-0d90-435c-b0bc-e448e82f85cc",
   "metadata": {},
   "source": [
    "### -------------------------------------------------------------------------------------------------------------\n",
    "## (2) Estimate the models identified in the previous part."
   ]
  },
  {
   "cell_type": "code",
   "execution_count": 38,
   "id": "934e84c5-baa1-49ab-8eca-da77e151129e",
   "metadata": {},
   "outputs": [
    {
     "name": "stdout",
     "output_type": "stream",
     "text": [
      "                               SARIMAX Results                                \n",
      "==============================================================================\n",
      "Dep. Variable:              Adj Close   No. Observations:                  219\n",
      "Model:                 ARIMA(2, 0, 2)   Log Likelihood                 384.667\n",
      "Date:                Sun, 26 Nov 2023   AIC                           -757.335\n",
      "Time:                        17:15:28   BIC                           -737.000\n",
      "Sample:                             0   HQIC                          -749.122\n",
      "                                - 219                                         \n",
      "Covariance Type:                  opg                                         \n",
      "==============================================================================\n",
      "                 coef    std err          z      P>|z|      [0.025      0.975]\n",
      "------------------------------------------------------------------------------\n",
      "const          0.0090      0.003      3.310      0.001       0.004       0.014\n",
      "ar.L1          0.4373      0.241      1.814      0.070      -0.035       0.910\n",
      "ar.L2         -0.6607      0.243     -2.717      0.007      -1.137      -0.184\n",
      "ma.L1         -0.4084      0.280     -1.456      0.145      -0.958       0.141\n",
      "ma.L2          0.5341      0.263      2.027      0.043       0.018       1.051\n",
      "sigma2         0.0017      0.000     12.468      0.000       0.001       0.002\n",
      "===================================================================================\n",
      "Ljung-Box (L1) (Q):                   0.01   Jarque-Bera (JB):                11.57\n",
      "Prob(Q):                              0.93   Prob(JB):                         0.00\n",
      "Heteroskedasticity (H):               2.11   Skew:                            -0.19\n",
      "Prob(H) (two-sided):                  0.00   Kurtosis:                         4.06\n",
      "===================================================================================\n",
      "\n",
      "Warnings:\n",
      "[1] Covariance matrix calculated using the outer product of gradients (complex-step).\n"
     ]
    }
   ],
   "source": [
    "# fit ARMA model to generated data\n",
    "model = sm.tsa.ARIMA(returns, order=(2,0,2))\n",
    "results = model.fit()\n",
    "\n",
    "# Print the model summary\n",
    "print(results.summary())"
   ]
  },
  {
   "cell_type": "markdown",
   "id": "bc965b1a-765e-41e9-b8cb-bcfe9df5d0f6",
   "metadata": {},
   "source": [
    "### Taking a look at ar.L2 and ma.L2 we see p-values less than 0.05, pointing out to a statistical significance"
   ]
  },
  {
   "cell_type": "markdown",
   "id": "80553129-85c8-4c98-a774-7c21654c30a0",
   "metadata": {},
   "source": [
    "### -------------------------------------------------------------------------------------------------------------\n",
    "## (3) Apply diagnostic checks on the estimated models and modify the models if necessary. Repeat steps 1 and 2 to the modified models."
   ]
  },
  {
   "cell_type": "markdown",
   "id": "6bc99137-0988-4c59-9cf9-e95ebf209f8e",
   "metadata": {},
   "source": [
    "### The p-value of 0.93 for Ljung-Box indicates that there is no significant autocorrelation at lag 1, \n",
    "### suggesting that the model has adequately captured the temporal dependencies in the data.\n",
    "### The test for heteroskedasticity indicates a p-value of 0.00, suggesting that there is evidence to reject the null hypothesis of homoskedasticity. \n",
    "### In other words, the variance of the residuals is not constant across observations.\n",
    "### So, while the model appears to be reasonably well-specified, it's always a good practice to potentially iterate on the model based on diagnostic results."
   ]
  },
  {
   "cell_type": "markdown",
   "id": "f415b921-8afe-4f3a-b3dc-250f6cd239ec",
   "metadata": {},
   "source": [
    "### -------------------------------------------------------------------------------------------------------------\n",
    "## (4) State the unique model you decided on and report the regression results."
   ]
  },
  {
   "cell_type": "markdown",
   "id": "e9e9eab6-c06f-4680-b227-3ac6f09db814",
   "metadata": {},
   "source": [
    "### Based on the statistical significance of coefficients and on the diagnostics, we have decided on the model of ARMA(2, 2) for monthly returns data."
   ]
  },
  {
   "cell_type": "markdown",
   "id": "4c25008d-0f47-4c22-a3af-906df84fc007",
   "metadata": {},
   "source": [
    "### -------------------------------------------------------------------------------------------------------------\n",
    "## (5) Follow the steps above, 1 to 4, separately for ETF returns at daily and monthly frequencies."
   ]
  },
  {
   "cell_type": "code",
   "execution_count": 49,
   "id": "0e5556fe-0ad3-4e65-8dc5-dbc80ea19c62",
   "metadata": {},
   "outputs": [
    {
     "name": "stdout",
     "output_type": "stream",
     "text": [
      "[*********************100%***********************]  1 of 1 completed\n"
     ]
    }
   ],
   "source": [
    "# Let's obtain the daily data this time\n",
    "daily_data = yf.download(ticker, start='2010-02-01', end='2023-11-01')\n",
    "d_returns = daily_data['Adj Close'].pct_change().dropna()"
   ]
  },
  {
   "cell_type": "markdown",
   "id": "f0d144b9-8941-4072-9aac-52d8579951e4",
   "metadata": {},
   "source": [
    "### Once again let's try ARMA(1, 1)"
   ]
  },
  {
   "cell_type": "code",
   "execution_count": 52,
   "id": "5119c8a7-83d5-4801-9731-ffa2dbec3264",
   "metadata": {},
   "outputs": [
    {
     "name": "stdout",
     "output_type": "stream",
     "text": [
      "                               SARIMAX Results                                \n",
      "==============================================================================\n",
      "Dep. Variable:              Adj Close   No. Observations:                 3461\n",
      "Model:                 ARIMA(1, 0, 1)   Log Likelihood               10313.828\n",
      "Date:                Sun, 26 Nov 2023   AIC                         -20619.656\n",
      "Time:                        17:55:12   BIC                         -20595.058\n",
      "Sample:                             0   HQIC                        -20610.872\n",
      "                               - 3461                                         \n",
      "Covariance Type:                  opg                                         \n",
      "==============================================================================\n",
      "                 coef    std err          z      P>|z|      [0.025      0.975]\n",
      "------------------------------------------------------------------------------\n",
      "const          0.0006      0.000      2.917      0.004       0.000       0.001\n",
      "ar.L1         -0.5256      0.061     -8.547      0.000      -0.646      -0.405\n",
      "ma.L1          0.4391      0.065      6.744      0.000       0.311       0.567\n",
      "sigma2         0.0002    1.9e-06     79.253      0.000       0.000       0.000\n",
      "===================================================================================\n",
      "Ljung-Box (L1) (Q):                   0.00   Jarque-Bera (JB):              8777.92\n",
      "Prob(Q):                              0.95   Prob(JB):                         0.00\n",
      "Heteroskedasticity (H):               2.34   Skew:                            -0.44\n",
      "Prob(H) (two-sided):                  0.00   Kurtosis:                        10.75\n",
      "===================================================================================\n",
      "\n",
      "Warnings:\n",
      "[1] Covariance matrix calculated using the outer product of gradients (complex-step).\n"
     ]
    }
   ],
   "source": [
    "# ARMA(1, 1)\n",
    "model = sm.tsa.ARIMA(d_returns, order=(1,0,1))\n",
    "results = model.fit()\n",
    "\n",
    "# Print the model summary\n",
    "print(results.summary())"
   ]
  },
  {
   "cell_type": "markdown",
   "id": "352a88a4-d4c4-42d9-b911-eb89a50ff388",
   "metadata": {},
   "source": [
    "### P-values for the coefficients seems statistically significant. But we should make our observations on ACF and PACF to decide on the model."
   ]
  },
  {
   "cell_type": "code",
   "execution_count": 53,
   "id": "0cfae15e-d3d9-4a57-96d0-ff430ab5b6ae",
   "metadata": {},
   "outputs": [
    {
     "data": {
      "image/png": "[encoded data removed]",
      "text/plain": [
       "<Figure size 1008x288 with 2 Axes>"
      ]
     },
     "metadata": {
      "needs_background": "light"
     },
     "output_type": "display_data"
    }
   ],
   "source": [
    "# Plot ACF and PACF\n",
    "fig, (ax1, ax2) = plt.subplots(1, 2, figsize=(14, 4))\n",
    "\n",
    "plot_acf(d_returns, lags=10, alpha= 0.05, auto_ylims=True, zero=False, ax=ax1)\n",
    "ax1.set_title('Autocorrelation Function (ACF)')\n",
    "\n",
    "plot_pacf(d_returns, lags=10, alpha = 0.05, auto_ylims=True, zero=False, ax=ax2)\n",
    "ax2.set_title('Partial Autocorrelation Function (PACF)')\n",
    "\n",
    "plt.show()"
   ]
  },
  {
   "cell_type": "markdown",
   "id": "80b65b9a-d456-4bf0-91e0-b044e00dc37d",
   "metadata": {},
   "source": [
    "### It seems we have ARMA(1, 1), but we need to also test for MA(3), MA(4) and AR(2)"
   ]
  },
  {
   "cell_type": "code",
   "execution_count": 54,
   "id": "a8f66552-9002-4146-9670-36305d5df3aa",
   "metadata": {},
   "outputs": [
    {
     "name": "stdout",
     "output_type": "stream",
     "text": [
      "                               SARIMAX Results                                \n",
      "==============================================================================\n",
      "Dep. Variable:              Adj Close   No. Observations:                 3461\n",
      "Model:                 ARIMA(0, 0, 3)   Log Likelihood               10316.641\n",
      "Date:                Sun, 26 Nov 2023   AIC                         -20623.282\n",
      "Time:                        17:55:18   BIC                         -20592.535\n",
      "Sample:                             0   HQIC                        -20612.303\n",
      "                               - 3461                                         \n",
      "Covariance Type:                  opg                                         \n",
      "==============================================================================\n",
      "                 coef    std err          z      P>|z|      [0.025      0.975]\n",
      "------------------------------------------------------------------------------\n",
      "const          0.0006      0.000      2.883      0.004       0.000       0.001\n",
      "ma.L1         -0.0839      0.009     -9.293      0.000      -0.102      -0.066\n",
      "ma.L2          0.0323      0.008      4.012      0.000       0.016       0.048\n",
      "ma.L3         -0.0342      0.010     -3.581      0.000      -0.053      -0.016\n",
      "sigma2         0.0002   1.83e-06     82.360      0.000       0.000       0.000\n",
      "===================================================================================\n",
      "Ljung-Box (L1) (Q):                   0.05   Jarque-Bera (JB):              8921.65\n",
      "Prob(Q):                              0.83   Prob(JB):                         0.00\n",
      "Heteroskedasticity (H):               2.33   Skew:                            -0.48\n",
      "Prob(H) (two-sided):                  0.00   Kurtosis:                        10.81\n",
      "===================================================================================\n",
      "\n",
      "Warnings:\n",
      "[1] Covariance matrix calculated using the outer product of gradients (complex-step).\n"
     ]
    }
   ],
   "source": [
    "# MA(3)\n",
    "model = sm.tsa.ARIMA(d_returns, order=(0,0,3))\n",
    "results = model.fit()\n",
    "\n",
    "# Print the model summary\n",
    "print(results.summary())"
   ]
  },
  {
   "cell_type": "code",
   "execution_count": 55,
   "id": "c1e1c310-5299-48c5-9d40-fe814fa81a54",
   "metadata": {},
   "outputs": [
    {
     "name": "stdout",
     "output_type": "stream",
     "text": [
      "                               SARIMAX Results                                \n",
      "==============================================================================\n",
      "Dep. Variable:              Adj Close   No. Observations:                 3461\n",
      "Model:                 ARIMA(0, 0, 4)   Log Likelihood               10317.700\n",
      "Date:                Sun, 26 Nov 2023   AIC                         -20623.401\n",
      "Time:                        17:55:30   BIC                         -20586.505\n",
      "Sample:                             0   HQIC                        -20610.225\n",
      "                               - 3461                                         \n",
      "Covariance Type:                  opg                                         \n",
      "==============================================================================\n",
      "                 coef    std err          z      P>|z|      [0.025      0.975]\n",
      "------------------------------------------------------------------------------\n",
      "const          0.0006      0.000      2.917      0.004       0.000       0.001\n",
      "ma.L1         -0.0745      0.010     -7.791      0.000      -0.093      -0.056\n",
      "ma.L2          0.0259      0.008      3.270      0.001       0.010       0.041\n",
      "ma.L3         -0.0318      0.009     -3.354      0.001      -0.050      -0.013\n",
      "ma.L4         -0.0321      0.010     -3.210      0.001      -0.052      -0.012\n",
      "sigma2         0.0002   1.84e-06     81.792      0.000       0.000       0.000\n",
      "===================================================================================\n",
      "Ljung-Box (L1) (Q):                   0.69   Jarque-Bera (JB):              8926.52\n",
      "Prob(Q):                              0.41   Prob(JB):                         0.00\n",
      "Heteroskedasticity (H):               2.34   Skew:                            -0.51\n",
      "Prob(H) (two-sided):                  0.00   Kurtosis:                        10.80\n",
      "===================================================================================\n",
      "\n",
      "Warnings:\n",
      "[1] Covariance matrix calculated using the outer product of gradients (complex-step).\n"
     ]
    }
   ],
   "source": [
    "# MA(4)\n",
    "model = sm.tsa.ARIMA(d_returns, order=(0,0,4))\n",
    "results = model.fit()\n",
    "\n",
    "# Print the model summary\n",
    "print(results.summary())"
   ]
  },
  {
   "cell_type": "code",
   "execution_count": 56,
   "id": "b789c4e2-6a9e-4521-89f2-ae87c51dcd48",
   "metadata": {},
   "outputs": [
    {
     "name": "stdout",
     "output_type": "stream",
     "text": [
      "                               SARIMAX Results                                \n",
      "==============================================================================\n",
      "Dep. Variable:              Adj Close   No. Observations:                 3461\n",
      "Model:                 ARIMA(2, 0, 0)   Log Likelihood               10314.299\n",
      "Date:                Sun, 26 Nov 2023   AIC                         -20620.599\n",
      "Time:                        17:55:45   BIC                         -20596.001\n",
      "Sample:                             0   HQIC                        -20611.815\n",
      "                               - 3461                                         \n",
      "Covariance Type:                  opg                                         \n",
      "==============================================================================\n",
      "                 coef    std err          z      P>|z|      [0.025      0.975]\n",
      "------------------------------------------------------------------------------\n",
      "const          0.0006      0.000      2.846      0.004       0.000       0.001\n",
      "ar.L1         -0.0875      0.009     -9.600      0.000      -0.105      -0.070\n",
      "ar.L2          0.0334      0.008      3.979      0.000       0.017       0.050\n",
      "sigma2         0.0002    1.8e-06     83.917      0.000       0.000       0.000\n",
      "===================================================================================\n",
      "Ljung-Box (L1) (Q):                   0.00   Jarque-Bera (JB):              8389.40\n",
      "Prob(Q):                              0.95   Prob(JB):                         0.00\n",
      "Heteroskedasticity (H):               2.33   Skew:                            -0.44\n",
      "Prob(H) (two-sided):                  0.00   Kurtosis:                        10.58\n",
      "===================================================================================\n",
      "\n",
      "Warnings:\n",
      "[1] Covariance matrix calculated using the outer product of gradients (complex-step).\n"
     ]
    }
   ],
   "source": [
    "# AR(2)\n",
    "model = sm.tsa.ARIMA(d_returns, order=(2,0,0))\n",
    "results = model.fit()\n",
    "\n",
    "# Print the model summary\n",
    "print(results.summary())"
   ]
  },
  {
   "cell_type": "markdown",
   "id": "a63c1a04-9c51-449b-9aef-4adf23adb547",
   "metadata": {},
   "source": [
    "### Now upon taking a look at both models, we have first checked the log likelihood, in an effort to select the highest,\n",
    "### yet the numbers are too close to each other.\n",
    "### Then, we have taken a look at the AIC and BIC values of both models, once again prompting close values.\n",
    "### P-values for both coefficients for the relevant models look statistically significant < 0.05\n",
    "### So we look at the diagnostics values:\n",
    "#### --------------------------------------"
   ]
  },
  {
   "cell_type": "markdown",
   "id": "7fa8db1d-be07-40c2-8f7e-afd4cde55f95",
   "metadata": {},
   "source": [
    "#### MA(3) : Ljung-Box (L1) (Q): 0.05 , Prob(Q): 0.83\n",
    "#### MA(4) : Ljung-Box (L1) (Q): 0.69 , Prob(Q): 0.41\n",
    "#### AR(2) : Ljung-Box (L1) (Q): 0.00 , Prob(Q): 0.95"
   ]
  },
  {
   "cell_type": "markdown",
   "id": "1c092c56-70af-4887-8f5b-f0e18c17ee01",
   "metadata": {},
   "source": [
    "### Among the three models, the AR(2) model has the highest p-value (0.95), indicating that the residuals from this model have the least evidence of autocorrelation."
   ]
  },
  {
   "cell_type": "markdown",
   "id": "f56e0957-6aea-460d-ac2e-76c4d82a463e",
   "metadata": {},
   "source": [
    "## ======================================================================\n",
    "## Project by: Dr. Hasan Apaydın, N. Emir Eğilli, Hakan Tokdoğan, Kerimcan Uzun"
   ]
  },
  {
   "cell_type": "code",
   "execution_count": null,
   "id": "d1cfd584-bd79-4480-bd9e-451494fdc85e",
   "metadata": {},
   "outputs": [],
   "source": []
  }
 ],
 "metadata": {
  "kernelspec": {
   "display_name": "Python 3 (ipykernel)",
   "language": "python",
   "name": "python3"
  },
  "language_info": {
   "codemirror_mode": {
    "name": "ipython",
    "version": 3
   },
   "file_extension": ".py",
   "mimetype": "text/x-python",
   "name": "python",
   "nbconvert_exporter": "python",
   "pygments_lexer": "ipython3",
   "version": "3.9.12"
  }
 },
 "nbformat": 4,
 "nbformat_minor": 5
}
